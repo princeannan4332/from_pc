{
 "cells": [
  {
   "cell_type": "markdown",
   "id": "54400d56",
   "metadata": {},
   "source": [
    "# Numpy Tutorial"
   ]
  },
  {
   "cell_type": "code",
   "execution_count": 1,
   "id": "81072dbd",
   "metadata": {},
   "outputs": [],
   "source": [
    "import numpy as np"
   ]
  },
  {
   "cell_type": "code",
   "execution_count": 2,
   "id": "162205e9",
   "metadata": {},
   "outputs": [
    {
     "name": "stdout",
     "output_type": "stream",
     "text": [
      "[ 1  2 23  3]\n",
      "[ 1  2 23  3]\n"
     ]
    }
   ],
   "source": [
    "#arrays in numpy\n",
    "a=np.array([1,2,23,3],dtype='int64')\n",
    "b=np.array([1,2,23,3],dtype='int32')\n",
    "print(a)\n",
    "print(b)"
   ]
  },
  {
   "cell_type": "markdown",
   "id": "cdb1718f",
   "metadata": {},
   "source": [
    "# dtype"
   ]
  },
  {
   "cell_type": "markdown",
   "id": "eeaf1654",
   "metadata": {},
   "source": [
    "if data type is \n",
    "int32-Processing of data is less fast but with\n",
    "int64-Processing of data is much faster than int32"
   ]
  },
  {
   "cell_type": "code",
   "execution_count": 3,
   "id": "47342853",
   "metadata": {},
   "outputs": [
    {
     "name": "stdout",
     "output_type": "stream",
     "text": [
      "For a:\n",
      "4\n",
      "8\n",
      "\n",
      "For b:\n",
      "4\n",
      "4\n"
     ]
    }
   ],
   "source": [
    "#testing to see data processing speed of int32 and int64\n",
    "print('For a:')\n",
    "print(a.size)\n",
    "print(a.itemsize)\n",
    "print('')\n",
    "print('For b:')\n",
    "print(b.size)\n",
    "print(b.itemsize)"
   ]
  },
  {
   "cell_type": "markdown",
   "id": "2a96884e",
   "metadata": {},
   "source": [
    "# Number of dimensions Of Arrays"
   ]
  },
  {
   "cell_type": "code",
   "execution_count": 4,
   "id": "a74d17a6",
   "metadata": {},
   "outputs": [
    {
     "name": "stdout",
     "output_type": "stream",
     "text": [
      "2\n"
     ]
    }
   ],
   "source": [
    "a=np.array([[2,32,3]])\n",
    "print(a.ndim)"
   ]
  },
  {
   "cell_type": "markdown",
   "id": "4c066195",
   "metadata": {},
   "source": [
    "\n",
    "# Structure of Arrays"
   ]
  },
  {
   "cell_type": "code",
   "execution_count": 5,
   "id": "fb3bf03d",
   "metadata": {},
   "outputs": [
    {
     "name": "stdout",
     "output_type": "stream",
     "text": [
      "[[ 2 31 45]\n",
      " [12  4  5]]\n",
      "Shape:(2, 3)\n"
     ]
    }
   ],
   "source": [
    "a=np.array([[2,31,45],[12,4,5]])\n",
    "print(a)\n",
    "print('Shape:'+str(a.shape))"
   ]
  },
  {
   "cell_type": "code",
   "execution_count": 6,
   "id": "4a5a9022",
   "metadata": {},
   "outputs": [
    {
     "name": "stdout",
     "output_type": "stream",
     "text": [
      "[[ 2 31]\n",
      " [45 12]\n",
      " [ 4  5]]\n"
     ]
    }
   ],
   "source": [
    "#Changing the structure of the array\n",
    "b=a.reshape(3,2)\n",
    "print(b)"
   ]
  },
  {
   "cell_type": "markdown",
   "id": "211d59c6",
   "metadata": {},
   "source": [
    "# Accessing & Changing specific elements,row,column etc"
   ]
  },
  {
   "cell_type": "code",
   "execution_count": 7,
   "id": "222fe7e2",
   "metadata": {},
   "outputs": [
    {
     "name": "stdout",
     "output_type": "stream",
     "text": [
      "[[ 2  3 21 12  4]\n",
      " [23 32 34  4 32]]\n",
      "\n",
      "32\n"
     ]
    }
   ],
   "source": [
    "a=np.array([[2,3,21,12,4],[23,32,34,4,32]],dtype=int)\n",
    "print(a)\n",
    "print('')\n",
    "print(a[1,1])"
   ]
  },
  {
   "cell_type": "code",
   "execution_count": 8,
   "id": "98680942",
   "metadata": {},
   "outputs": [
    {
     "name": "stdout",
     "output_type": "stream",
     "text": [
      "[23 32 34  4 32]\n"
     ]
    }
   ],
   "source": [
    "#selecting rows\n",
    "print(a[1,:])"
   ]
  },
  {
   "cell_type": "code",
   "execution_count": 9,
   "id": "90e9aaa9",
   "metadata": {},
   "outputs": [
    {
     "name": "stdout",
     "output_type": "stream",
     "text": [
      "[ 3 32]\n"
     ]
    }
   ],
   "source": [
    "#selecting columns\n",
    "print(a[:,1])"
   ]
  },
  {
   "cell_type": "code",
   "execution_count": 10,
   "id": "b3d74e00",
   "metadata": {},
   "outputs": [
    {
     "name": "stdout",
     "output_type": "stream",
     "text": [
      "[ 2 21]\n"
     ]
    }
   ],
   "source": [
    "#getting a fancy\n",
    "print(a[0,0:-1:2])"
   ]
  },
  {
   "cell_type": "code",
   "execution_count": 11,
   "id": "4f999376",
   "metadata": {},
   "outputs": [
    {
     "name": "stdout",
     "output_type": "stream",
     "text": [
      "[[12 16 21 12  4]\n",
      " [23 32 34  4 32]]\n"
     ]
    }
   ],
   "source": [
    "#Changing values in the array\n",
    "a[0,:2]=[12,16]\n",
    "print(a)"
   ]
  },
  {
   "cell_type": "code",
   "execution_count": 12,
   "id": "9e22a854",
   "metadata": {},
   "outputs": [
    {
     "name": "stdout",
     "output_type": "stream",
     "text": [
      "26\n"
     ]
    }
   ],
   "source": [
    "#getting specific values outside in\n",
    "d=np.array([[[2,3,4],[23,26,4]]])\n",
    "print(d[0,1,1])"
   ]
  },
  {
   "cell_type": "markdown",
   "id": "e6d93411",
   "metadata": {},
   "source": [
    "# Initializing different kinds of Arrays"
   ]
  },
  {
   "cell_type": "code",
   "execution_count": 13,
   "id": "5739f7de",
   "metadata": {},
   "outputs": [
    {
     "name": "stdout",
     "output_type": "stream",
     "text": [
      "[[1 1 1]\n",
      " [1 1 1]]\n"
     ]
    }
   ],
   "source": [
    "#ones\n",
    "a=np.ones((2,3),dtype=int)\n",
    "print(a)"
   ]
  },
  {
   "cell_type": "code",
   "execution_count": 14,
   "id": "6e9a79dd",
   "metadata": {},
   "outputs": [
    {
     "name": "stdout",
     "output_type": "stream",
     "text": [
      "[1 3 5 7 9]\n"
     ]
    }
   ],
   "source": [
    "# np.arange(start,end,step,datatype)\n",
    "c=np.arange(1,10,2,dtype=int)\n",
    "print(c)"
   ]
  },
  {
   "cell_type": "code",
   "execution_count": 15,
   "id": "12fc92e0",
   "metadata": {},
   "outputs": [
    {
     "name": "stdout",
     "output_type": "stream",
     "text": [
      "15\n"
     ]
    }
   ],
   "source": [
    " #np.random.randint(start,end,size=(dimension)\n",
    "    #getting random integers\n",
    "r=np.random.randint(1,20)\n",
    "print(r)"
   ]
  },
  {
   "cell_type": "code",
   "execution_count": 16,
   "id": "f1acf744",
   "metadata": {},
   "outputs": [
    {
     "name": "stdout",
     "output_type": "stream",
     "text": [
      "[[ 3 15 11]\n",
      " [17 19  5]]\n"
     ]
    }
   ],
   "source": [
    "#random integer array\n",
    "s=np.random.randint(1,20,size=(2,3))\n",
    "print(s)"
   ]
  },
  {
   "cell_type": "code",
   "execution_count": 17,
   "id": "935d748f",
   "metadata": {},
   "outputs": [
    {
     "name": "stdout",
     "output_type": "stream",
     "text": [
      "[[0. 0. 0.]\n",
      " [0. 0. 0.]]\n"
     ]
    }
   ],
   "source": [
    "#random floats array\n",
    "k=np.empty((2,3))\n",
    "print(k)"
   ]
  },
  {
   "cell_type": "code",
   "execution_count": 18,
   "id": "b48ce6ba",
   "metadata": {},
   "outputs": [
    {
     "name": "stdout",
     "output_type": "stream",
     "text": [
      "[[0 0]\n",
      " [0 0]\n",
      " [0 0]]\n"
     ]
    }
   ],
   "source": [
    "#Zeros array\n",
    "p=np.zeros((3,2),dtype=int)\n",
    "print(p)"
   ]
  },
  {
   "cell_type": "code",
   "execution_count": 19,
   "id": "74818ab2",
   "metadata": {},
   "outputs": [
    {
     "name": "stdout",
     "output_type": "stream",
     "text": [
      "[[2 2 2]\n",
      " [2 2 2]\n",
      " [2 2 2]]\n"
     ]
    }
   ],
   "source": [
    "#Creating repeated array values\n",
    "h=np.full((3,3),2)\n",
    "print(h)"
   ]
  },
  {
   "cell_type": "code",
   "execution_count": 20,
   "id": "86e805a0",
   "metadata": {},
   "outputs": [
    {
     "name": "stdout",
     "output_type": "stream",
     "text": [
      "[[2 2]\n",
      " [2 2]\n",
      " [2 2]]\n",
      "or\n",
      "[[3 3]\n",
      " [3 3]\n",
      " [3 3]]\n"
     ]
    }
   ],
   "source": [
    "#Creatign repeated values using another arrays shape\n",
    "j=np.full_like(p,2);\n",
    "print(j)\n",
    "#or\n",
    "print('or')\n",
    "f=np.full(p.shape,3)\n",
    "print(f)"
   ]
  },
  {
   "cell_type": "code",
   "execution_count": 21,
   "id": "8d790f2f",
   "metadata": {},
   "outputs": [
    {
     "name": "stdout",
     "output_type": "stream",
     "text": [
      "[[1 0 0]\n",
      " [0 1 0]\n",
      " [0 0 1]]\n"
     ]
    }
   ],
   "source": [
    "#checking for the identity element of an array\n",
    "i=np.identity(3,dtype=int)\n",
    "print(i)"
   ]
  },
  {
   "cell_type": "code",
   "execution_count": 22,
   "id": "3564fca1",
   "metadata": {},
   "outputs": [
    {
     "name": "stdout",
     "output_type": "stream",
     "text": [
      "(array([0, 0, 0, 0, 1, 1, 1, 1, 2]), 0.25)\n"
     ]
    }
   ],
   "source": [
    "#numpy.linspace(start, stop, num, endpoint, retstep, dtype)\n",
    "#endpoint-True by default, hence the stop value is included in the sequence. If false, it is not included\n",
    "#retstep-If true, returns samples and step between the consecutive numbers\n",
    "\n",
    "fg=np.linspace(0,2,9,endpoint=True,retstep=True,dtype=int)\n",
    "print(fg)"
   ]
  },
  {
   "cell_type": "markdown",
   "id": "ecca7d18",
   "metadata": {},
   "source": [
    "# SOME TEST"
   ]
  },
  {
   "cell_type": "code",
   "execution_count": 23,
   "id": "dc018acc",
   "metadata": {},
   "outputs": [
    {
     "name": "stdout",
     "output_type": "stream",
     "text": [
      "[[1 1 1 1 1]\n",
      " [1 0 0 0 1]\n",
      " [1 0 9 0 1]\n",
      " [1 0 0 0 1]\n",
      " [1 1 1 1 1]]\n"
     ]
    }
   ],
   "source": [
    "o=np.ones((5,5),dtype=int)\n",
    "o[1:-1,1:-1]=np.zeros((3,3))\n",
    "o[2,2]=9\n",
    "print(o)"
   ]
  },
  {
   "cell_type": "markdown",
   "id": "373e2a9a",
   "metadata": {},
   "source": [
    "# Mathematical Operations "
   ]
  },
  {
   "cell_type": "code",
   "execution_count": 24,
   "id": "ea8d1ac8",
   "metadata": {},
   "outputs": [
    {
     "name": "stdout",
     "output_type": "stream",
     "text": [
      "[[ 2 13 12]\n",
      " [12  4 55]]\n"
     ]
    }
   ],
   "source": [
    "a=np.array([[2,13,12],[12,4,55]])\n",
    "b=np.array([[21,1,53],[1,12,5]])\n",
    "print(a)"
   ]
  },
  {
   "cell_type": "code",
   "execution_count": 25,
   "id": "05ca50f1",
   "metadata": {},
   "outputs": [
    {
     "name": "stdout",
     "output_type": "stream",
     "text": [
      "[ 2  4 12]\n",
      "[2 4]\n"
     ]
    }
   ],
   "source": [
    "#Minimum columns value\n",
    "c=a.min(axis=0)\n",
    "print(c)\n",
    "\n",
    "#Minimum of rows\n",
    "k=a.min(axis=1)\n",
    "print(k)"
   ]
  },
  {
   "cell_type": "code",
   "execution_count": 26,
   "id": "a74567e9",
   "metadata": {},
   "outputs": [
    {
     "name": "stdout",
     "output_type": "stream",
     "text": [
      "98\n"
     ]
    }
   ],
   "source": [
    "#adding all values in array\n",
    "s=a.sum();\n",
    "print(s)"
   ]
  },
  {
   "cell_type": "code",
   "execution_count": 27,
   "id": "c61a0f5c",
   "metadata": {},
   "outputs": [
    {
     "name": "stdout",
     "output_type": "stream",
     "text": [
      "[[1.41421356 3.60555128 3.46410162]\n",
      " [3.46410162 2.         7.41619849]]\n"
     ]
    }
   ],
   "source": [
    "#Getting the square of each elements of the array\n",
    "d=np.sqrt(a)\n",
    "print(d)"
   ]
  },
  {
   "cell_type": "code",
   "execution_count": 28,
   "id": "2dc83724",
   "metadata": {},
   "outputs": [
    {
     "name": "stdout",
     "output_type": "stream",
     "text": [
      "[[23 14 65]\n",
      " [13 16 60]]\n"
     ]
    }
   ],
   "source": [
    "#Adding each corresponfing elements of two arrays\n",
    "g=a+b\n",
    "print(g)"
   ]
  },
  {
   "cell_type": "code",
   "execution_count": 29,
   "id": "023eae53",
   "metadata": {},
   "outputs": [
    {
     "name": "stdout",
     "output_type": "stream",
     "text": [
      "[[ 42  13 636]\n",
      " [ 12  48 275]]\n"
     ]
    }
   ],
   "source": [
    "#Multipling corresponding elements of two arrays\n",
    "h=a*b\n",
    "print(h)"
   ]
  },
  {
   "cell_type": "code",
   "execution_count": 30,
   "id": "8778fb77",
   "metadata": {},
   "outputs": [
    {
     "name": "stdout",
     "output_type": "stream",
     "text": [
      "[[-19  12 -41]\n",
      " [ 11  -8  50]]\n"
     ]
    }
   ],
   "source": [
    "#Subtracting corresponding elements of two arrays\n",
    "h=a-b\n",
    "print(h)"
   ]
  },
  {
   "cell_type": "code",
   "execution_count": 31,
   "id": "15329011",
   "metadata": {},
   "outputs": [
    {
     "name": "stdout",
     "output_type": "stream",
     "text": [
      "[[  4  26  24]\n",
      " [ 24   8 110]]\n"
     ]
    }
   ],
   "source": [
    "#Using scaler on matrix\n",
    "g=2*a\n",
    "print(g)"
   ]
  },
  {
   "cell_type": "code",
   "execution_count": 32,
   "id": "c5780fac",
   "metadata": {},
   "outputs": [
    {
     "name": "stdout",
     "output_type": "stream",
     "text": [
      "[[  8  17]\n",
      " [ 53 122]]\n",
      "or\n"
     ]
    },
    {
     "data": {
      "text/plain": [
       "array([[  8,  17],\n",
       "       [ 53, 122]])"
      ]
     },
     "execution_count": 32,
     "metadata": {},
     "output_type": "execute_result"
    }
   ],
   "source": [
    "#Finding the product of two matrices\n",
    "a=np.array([[2,3],[3,7]])\n",
    "b=np.array([[1,2],[1,17]])\n",
    "print(b.dot(a))\n",
    "#or\n",
    "print('or')\n",
    "np.matmul(b,a)"
   ]
  },
  {
   "cell_type": "code",
   "execution_count": 33,
   "id": "8107c9f1",
   "metadata": {},
   "outputs": [
    {
     "name": "stdout",
     "output_type": "stream",
     "text": [
      "11\n"
     ]
    }
   ],
   "source": [
    "#Finding the determinant of matrix\n",
    "g=np.array([[3,2],[2,5]],dtype=int)\n",
    "print(round(np.linalg.det(g)))"
   ]
  },
  {
   "cell_type": "markdown",
   "id": "4bda4013",
   "metadata": {},
   "source": [
    "# Joining two arrays"
   ]
  },
  {
   "cell_type": "code",
   "execution_count": 34,
   "id": "3342fdf7",
   "metadata": {},
   "outputs": [
    {
     "name": "stdout",
     "output_type": "stream",
     "text": [
      "[[2 2 2]\n",
      " [1 1 1]]\n"
     ]
    }
   ],
   "source": [
    "#Joining two arrays by column joining\n",
    "a=np.array([1,1,1])\n",
    "b=np.array([2,2,2])\n",
    "print(np.vstack((b,a)))"
   ]
  },
  {
   "cell_type": "code",
   "execution_count": 35,
   "id": "13e137b7",
   "metadata": {},
   "outputs": [
    {
     "name": "stdout",
     "output_type": "stream",
     "text": [
      "[2 2 2 1 1 1]\n"
     ]
    }
   ],
   "source": [
    "#Joining two arrays by row joining\n",
    "print(np.hstack((b,a)))"
   ]
  },
  {
   "cell_type": "markdown",
   "id": "a50642e3",
   "metadata": {},
   "source": [
    "# Working with booleans in an array"
   ]
  },
  {
   "cell_type": "code",
   "execution_count": 36,
   "id": "db70e7cf",
   "metadata": {},
   "outputs": [
    {
     "name": "stdout",
     "output_type": "stream",
     "text": [
      "[[False False  True False]\n",
      " [ True  True False  True]]\n"
     ]
    }
   ],
   "source": [
    "#returning a true or false\n",
    "kp=np.array([[12,3,22,12],[14,23,4,21]])\n",
    "print(kp>12)"
   ]
  },
  {
   "cell_type": "code",
   "execution_count": 37,
   "id": "8c1a6160",
   "metadata": {},
   "outputs": [
    {
     "name": "stdout",
     "output_type": "stream",
     "text": [
      "[22 14 23 21]\n"
     ]
    }
   ],
   "source": [
    "#converting the true or false to the actual values\n",
    "res=kp[kp>12]\n",
    "print(res)"
   ]
  },
  {
   "cell_type": "markdown",
   "id": "40428365",
   "metadata": {},
   "source": [
    "# Loading Data From FIle In Numpy"
   ]
  },
  {
   "cell_type": "code",
   "execution_count": 38,
   "id": "97a1de5f",
   "metadata": {},
   "outputs": [
    {
     "name": "stdout",
     "output_type": "stream",
     "text": [
      "End\n"
     ]
    }
   ],
   "source": [
    "print('End')"
   ]
  },
  {
   "cell_type": "code",
   "execution_count": null,
   "id": "66d9d199",
   "metadata": {},
   "outputs": [],
   "source": []
  }
 ],
 "metadata": {
  "kernelspec": {
   "display_name": "Python 3 (ipykernel)",
   "language": "python",
   "name": "python3"
  },
  "language_info": {
   "codemirror_mode": {
    "name": "ipython",
    "version": 3
   },
   "file_extension": ".py",
   "mimetype": "text/x-python",
   "name": "python",
   "nbconvert_exporter": "python",
   "pygments_lexer": "ipython3",
   "version": "3.9.12"
  }
 },
 "nbformat": 4,
 "nbformat_minor": 5
}
