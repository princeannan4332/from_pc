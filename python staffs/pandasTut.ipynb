{
 "cells": [
  {
   "cell_type": "markdown",
   "id": "b0559f7e",
   "metadata": {},
   "source": [
    "### Importing Files In Pandas"
   ]
  },
  {
   "cell_type": "code",
   "execution_count": 1,
   "id": "75eb5522",
   "metadata": {},
   "outputs": [],
   "source": [
    "import pandas as pd"
   ]
  },
  {
   "cell_type": "code",
   "execution_count": 2,
   "id": "d9d63fa4",
   "metadata": {},
   "outputs": [
    {
     "name": "stdout",
     "output_type": "stream",
     "text": [
      "       Names       Skills  Rating  Speed                        Cities\n",
      "0       Mike    High Kick     3.3    123  323 St,Los Angeles,CA TX3267\n",
      "1    Micheal     Low Kick     2.3    234  323 St,Los Angeles,CA TX3267\n",
      "2       Guru    High Kick     4.4     12        122 St,Accra,KM OS2173\n",
      "3      Caleb  Power Punch     3.4    323        312 St,Accra,AD OS4173\n",
      "4     Prince       Poison     4.5    123  323 St,Los Angeles,CA TX3267\n",
      "5     Martin        Toxic     2.1    145        312 St,Accra,AD OS4173\n",
      "6    Charles        Toxic     1.3     45        122 St,Accra,KM OS2173\n",
      "7   Benjamin        Blade     4.2     12        312 St,Accra,AD OS4173\n",
      "8     Thomas       Poison     3.5    453        122 St,Accra,KM OS2173\n",
      "9    Richard     Low Kick     1.5    222   33 St,Los Angeles,MH TJ1267\n",
      "10    Junior        Blade     3.6    156   33 St,Los Angeles,MH TJ1267\n",
      "11   Maxwell    High Kick     1.1    321   33 St,Los Angeles,MH TJ1267\n",
      "12     Tracy     Low Kick     2.8    333        312 St,Accra,AD OS4173\n",
      "13    Mariam        Blade     3.3    566        366 St,Accra,KA OS2173\n",
      "14   Pascals       Poison     1.5     21        122 St,Accra,KM OS2173\n",
      "15   Jessica       Poison     2.8     23        366 St,Accra,KA OS2173\n",
      "16     Aaron        Vomit     3.8    456   33 St,Los Angeles,MH TJ1267\n",
      "17    Magret        Trick     4.8    633  323 St,Los Angeles,CA TX3267\n",
      "18      Mane        Shoot     NaN    466        366 St,Accra,KA OS2173\n"
     ]
    }
   ],
   "source": [
    "#Loading an excel file\n",
    "df=pd.read_excel('AwuscoNight.xlsx')\n",
    "print(df)"
   ]
  },
  {
   "cell_type": "code",
   "execution_count": 3,
   "id": "3b1c15df",
   "metadata": {},
   "outputs": [
    {
     "name": "stdout",
     "output_type": "stream",
     "text": [
      "     Names       Skills  Rating  Speed                        Cities\n",
      "0     Mike    High Kick     3.3    123  323 St,Los Angeles,CA TX3267\n",
      "1  Micheal     Low Kick     2.3    234  323 St,Los Angeles,CA TX3267\n",
      "2     Guru    High Kick     4.4     12        122 St,Accra,KM OS2173\n",
      "3    Caleb  Power Punch     3.4    323        312 St,Accra,AD OS4173\n",
      "4   Prince       Poison     4.5    123  323 St,Los Angeles,CA TX3267\n"
     ]
    }
   ],
   "source": [
    "#loading a few frames of the data from the top\n",
    "print(df.head(5))"
   ]
  },
  {
   "cell_type": "code",
   "execution_count": 4,
   "id": "bfc9ab94",
   "metadata": {},
   "outputs": [
    {
     "name": "stdout",
     "output_type": "stream",
     "text": [
      "      Names  Skills  Rating  Speed                        Cities\n",
      "14  Pascals  Poison     1.5     21        122 St,Accra,KM OS2173\n",
      "15  Jessica  Poison     2.8     23        366 St,Accra,KA OS2173\n",
      "16    Aaron   Vomit     3.8    456   33 St,Los Angeles,MH TJ1267\n",
      "17   Magret   Trick     4.8    633  323 St,Los Angeles,CA TX3267\n",
      "18     Mane   Shoot     NaN    466        366 St,Accra,KA OS2173\n"
     ]
    }
   ],
   "source": [
    "#loading a few frames of the data from the bottom\n",
    "print(df.tail(5))"
   ]
  },
  {
   "cell_type": "code",
   "execution_count": 5,
   "id": "c53b72dc",
   "metadata": {},
   "outputs": [
    {
     "name": "stdout",
     "output_type": "stream",
     "text": [
      "       Name Weapon  Win  Loose\n",
      "0      Mike  Blade    2      3\n",
      "1     James    Gun    4      6\n",
      "2    Martin  Knife   12      2\n",
      "3    Prince   Fire    4      0\n",
      "4   Keneath  Blade    6      3\n",
      "5    Magret   Fire    4      2\n",
      "6     Tracy    Gun    3      5\n",
      "7   Micheal  Knife    5      2\n",
      "8     Banes  Water    2      1\n",
      "9    Mariam    Gun    3      1\n",
      "10  Charles   Fire    2      0\n"
     ]
    }
   ],
   "source": [
    "#Loading a text file\n",
    "#Note:\\t stands for a tab seperation if it is a comma seperation you must use this (',')\n",
    "df=pd.read_csv('AwuscoNight.txt',delimiter='\\t');\n",
    "print(df)"
   ]
  },
  {
   "cell_type": "markdown",
   "id": "88eb1f70",
   "metadata": {},
   "source": [
    "# Reading Data in Pandas"
   ]
  },
  {
   "cell_type": "code",
   "execution_count": 6,
   "id": "61598935",
   "metadata": {},
   "outputs": [
    {
     "name": "stdout",
     "output_type": "stream",
     "text": [
      "Index(['Name', 'Weapon', 'Win', 'Loose'], dtype='object')\n"
     ]
    }
   ],
   "source": [
    "#Reading headers\n",
    "print(df.columns)"
   ]
  },
  {
   "cell_type": "code",
   "execution_count": 7,
   "id": "80fa43c2",
   "metadata": {},
   "outputs": [
    {
     "name": "stdout",
     "output_type": "stream",
     "text": [
      "Weapon\n"
     ]
    }
   ],
   "source": [
    "#Selecting a column\n",
    "print(df.columns[1])"
   ]
  },
  {
   "cell_type": "code",
   "execution_count": 8,
   "id": "1ebe9f5b",
   "metadata": {},
   "outputs": [
    {
     "name": "stdout",
     "output_type": "stream",
     "text": [
      "0    Blade\n",
      "1      Gun\n",
      "2    Knife\n",
      "3     Fire\n",
      "Name: Weapon, dtype: object\n"
     ]
    }
   ],
   "source": [
    "#Reading Each Column\n",
    "f=df['Weapon'][:4]\n",
    "print(f)"
   ]
  },
  {
   "cell_type": "code",
   "execution_count": 9,
   "id": "356850a4",
   "metadata": {},
   "outputs": [
    {
     "name": "stdout",
     "output_type": "stream",
     "text": [
      "       Name Weapon\n",
      "0      Mike  Blade\n",
      "1     James    Gun\n",
      "2    Martin  Knife\n",
      "3    Prince   Fire\n",
      "4   Keneath  Blade\n",
      "5    Magret   Fire\n",
      "6     Tracy    Gun\n",
      "7   Micheal  Knife\n",
      "8     Banes  Water\n",
      "9    Mariam    Gun\n",
      "10  Charles   Fire\n"
     ]
    }
   ],
   "source": [
    "#Reading Multiple columns\n",
    "d=df[['Name','Weapon']]\n",
    "print(d)"
   ]
  },
  {
   "cell_type": "code",
   "execution_count": 10,
   "id": "be478f84",
   "metadata": {},
   "outputs": [
    {
     "name": "stdout",
     "output_type": "stream",
     "text": [
      "Name      Prince\n",
      "Weapon      Fire\n",
      "Win            4\n",
      "Loose          0\n",
      "Name: 3, dtype: object\n"
     ]
    }
   ],
   "source": [
    "#reading specific locations (Row,Column)\n",
    "db=df.iloc[3,:]\n",
    "print(db)"
   ]
  },
  {
   "cell_type": "code",
   "execution_count": 11,
   "id": "bf1da00f",
   "metadata": {},
   "outputs": [
    {
     "name": "stdout",
     "output_type": "stream",
     "text": [
      "       Name Weapon  Win  Loose\n",
      "3    Prince   Fire    4      0\n",
      "5    Magret   Fire    4      2\n",
      "10  Charles   Fire    2      0\n"
     ]
    }
   ],
   "source": [
    "#Fetching Specific ELements\n",
    "c=df.loc[df['Weapon']=='Fire']\n",
    "print(c)"
   ]
  },
  {
   "cell_type": "markdown",
   "id": "c044a6dc",
   "metadata": {},
   "source": [
    "# Sorting And Describing Data"
   ]
  },
  {
   "cell_type": "code",
   "execution_count": 12,
   "id": "1b0d601c",
   "metadata": {},
   "outputs": [
    {
     "name": "stdout",
     "output_type": "stream",
     "text": [
      "             Win      Loose\n",
      "count  11.000000  11.000000\n",
      "mean    4.272727   2.272727\n",
      "std     2.866737   1.902152\n",
      "min     2.000000   0.000000\n",
      "25%     2.500000   1.000000\n",
      "50%     4.000000   2.000000\n",
      "75%     4.500000   3.000000\n",
      "max    12.000000   6.000000\n"
     ]
    }
   ],
   "source": [
    "d=df.describe()\n",
    "print(d)"
   ]
  },
  {
   "cell_type": "code",
   "execution_count": 13,
   "id": "acdddc0d",
   "metadata": {},
   "outputs": [
    {
     "name": "stdout",
     "output_type": "stream",
     "text": [
      "4.2727272727272725\n"
     ]
    }
   ],
   "source": [
    "#calculating for the mean of win manually\n",
    "#Note:.size is used to grab the length or number of items\n",
    "s=df['Win']\n",
    "print(s.sum()/s.size)"
   ]
  },
  {
   "cell_type": "code",
   "execution_count": 14,
   "id": "f3ee039e",
   "metadata": {},
   "outputs": [
    {
     "name": "stdout",
     "output_type": "stream",
     "text": [
      "       Name Weapon  Win  Loose\n",
      "6     Tracy    Gun    3      5\n",
      "3    Prince   Fire    4      0\n",
      "0      Mike  Blade    2      3\n",
      "7   Micheal  Knife    5      2\n",
      "2    Martin  Knife   12      2\n",
      "9    Mariam    Gun    3      1\n",
      "5    Magret   Fire    4      2\n",
      "4   Keneath  Blade    6      3\n",
      "1     James    Gun    4      6\n",
      "10  Charles   Fire    2      0\n",
      "8     Banes  Water    2      1\n"
     ]
    }
   ],
   "source": [
    "#sort_value(nameOfHeader,ascending)\n",
    "#if ascending=True from A-Z\n",
    "#if ascending=False from Z-A\n",
    "ar=df.sort_values('Name',ascending=False)\n",
    "print(ar)"
   ]
  },
  {
   "cell_type": "code",
   "execution_count": 15,
   "id": "10cfe0fd",
   "metadata": {},
   "outputs": [
    {
     "name": "stdout",
     "output_type": "stream",
     "text": [
      "       Name Weapon  Win  Loose\n",
      "8     Banes  Water    2      1\n",
      "10  Charles   Fire    2      0\n",
      "1     James    Gun    4      6\n",
      "4   Keneath  Blade    6      3\n",
      "5    Magret   Fire    4      2\n",
      "9    Mariam    Gun    3      1\n",
      "2    Martin  Knife   12      2\n",
      "7   Micheal  Knife    5      2\n",
      "0      Mike  Blade    2      3\n",
      "3    Prince   Fire    4      0\n",
      "6     Tracy    Gun    3      5\n"
     ]
    }
   ],
   "source": [
    "#sorting more than two columns\n",
    "ar=df.sort_values(['Name','Weapon'],ascending=[1,0])\n",
    "print(ar)"
   ]
  },
  {
   "cell_type": "markdown",
   "id": "0be7e7f3",
   "metadata": {},
   "source": [
    "# Manipulating Data"
   ]
  },
  {
   "cell_type": "code",
   "execution_count": 16,
   "id": "f0bca8a0",
   "metadata": {},
   "outputs": [
    {
     "name": "stdout",
     "output_type": "stream",
     "text": [
      "       Name  Win\n",
      "0      Mike    2\n",
      "1     James    4\n",
      "2    Martin   12\n",
      "3    Prince    4\n",
      "4   Keneath    6\n",
      "5    Magret    4\n",
      "6     Tracy    3\n",
      "7   Micheal    5\n",
      "8     Banes    2\n",
      "9    Mariam    3\n",
      "10  Charles    2\n"
     ]
    }
   ],
   "source": [
    "d=df.drop(columns=['Weapon','Loose'])\n",
    "print(d)"
   ]
  },
  {
   "cell_type": "code",
   "execution_count": 34,
   "id": "7de32f86",
   "metadata": {},
   "outputs": [
    {
     "name": "stdout",
     "output_type": "stream",
     "text": [
      "       Name Weapon  Win  Loose  Total    Status    Target  count\n",
      "0      Mike  Blade    2      3      5  Beginner   Rebound      1\n",
      "2    Martin  Knife   12      2     14   Lengend  Accurate      1\n",
      "3    Prince   Fire    4      0      4  Beginner   Rebound      1\n",
      "4   Keneath  Blade    6      3      9   Lengend  Accurate      1\n",
      "5    Magret   Fire    4      2      6  Beginner   Rebound      1\n",
      "7   Micheal  Knife    5      2      7  Beginner   Rebound      1\n",
      "8     Banes  Water    2      1      3  Beginner   Rebound      1\n",
      "10  Charles   Fire    2      0      2  Beginner   Rebound      1\n"
     ]
    }
   ],
   "source": [
    "#Deleting all rows containing Toxic \n",
    "f=df.loc[df['Weapon']=='Gun'].index\n",
    "\n",
    "d=df.drop(index=f)\n",
    "print(d)\n"
   ]
  },
  {
   "cell_type": "code",
   "execution_count": 35,
   "id": "8efc51d6",
   "metadata": {},
   "outputs": [
    {
     "name": "stdout",
     "output_type": "stream",
     "text": [
      "       Names       Skills  Rating  Speed                        Cities\n",
      "0       Mike    High Kick     3.3    123  323 St,Los Angeles,CA TX3267\n",
      "1    Micheal     Low Kick     2.3    234  323 St,Los Angeles,CA TX3267\n",
      "2       Guru    High Kick     4.4     12        122 St,Accra,KM OS2173\n",
      "3      Caleb  Power Punch     3.4    323        312 St,Accra,AD OS4173\n",
      "4     Prince       Poison     4.5    123  323 St,Los Angeles,CA TX3267\n",
      "5     Martin        Toxic     2.1    145        312 St,Accra,AD OS4173\n",
      "6    Charles        Toxic     1.3     45        122 St,Accra,KM OS2173\n",
      "7   Benjamin        Blade     4.2     12        312 St,Accra,AD OS4173\n",
      "8     Thomas       Poison     3.5    453        122 St,Accra,KM OS2173\n",
      "9    Richard     Low Kick     1.5    222   33 St,Los Angeles,MH TJ1267\n",
      "10    Junior        Blade     3.6    156   33 St,Los Angeles,MH TJ1267\n",
      "11   Maxwell    High Kick     1.1    321   33 St,Los Angeles,MH TJ1267\n",
      "12     Tracy     Low Kick     2.8    333        312 St,Accra,AD OS4173\n",
      "13    Mariam        Blade     3.3    566        366 St,Accra,KA OS2173\n",
      "14   Pascals       Poison     1.5     21        122 St,Accra,KM OS2173\n",
      "15   Jessica       Poison     2.8     23        366 St,Accra,KA OS2173\n",
      "16     Aaron        Vomit     3.8    456   33 St,Los Angeles,MH TJ1267\n",
      "17    Magret        Trick     4.8    633  323 St,Los Angeles,CA TX3267\n"
     ]
    }
   ],
   "source": [
    "#Deleting all NaN(Not a Number values)\n",
    "f=pd.read_excel('AwuscoNight.xlsx')\n",
    "g=f.dropna(how='any')\n",
    "print(g)"
   ]
  },
  {
   "cell_type": "code",
   "execution_count": 17,
   "id": "fea3ef8b",
   "metadata": {},
   "outputs": [
    {
     "name": "stdout",
     "output_type": "stream",
     "text": [
      "       Name Weapon  Win  Loose  Total\n",
      "0      Mike  Blade    2      3      5\n",
      "1     James    Gun    4      6     10\n",
      "2    Martin  Knife   12      2     14\n",
      "3    Prince   Fire    4      0      4\n",
      "4   Keneath  Blade    6      3      9\n",
      "5    Magret   Fire    4      2      6\n",
      "6     Tracy    Gun    3      5      8\n",
      "7   Micheal  Knife    5      2      7\n",
      "8     Banes  Water    2      1      3\n",
      "9    Mariam    Gun    3      1      4\n",
      "10  Charles   Fire    2      0      2\n"
     ]
    }
   ],
   "source": [
    "#Adding another column to the table\n",
    "df['Total']=df.iloc[:,2:4].sum(axis=1)\n",
    "print(df)"
   ]
  },
  {
   "cell_type": "markdown",
   "id": "566990c3",
   "metadata": {},
   "source": [
    "# Saving The New Data Above"
   ]
  },
  {
   "cell_type": "code",
   "execution_count": 18,
   "id": "488a5abe",
   "metadata": {},
   "outputs": [],
   "source": [
    "#Don't forget to bring the extensions"
   ]
  },
  {
   "cell_type": "code",
   "execution_count": 19,
   "id": "213c352e",
   "metadata": {},
   "outputs": [
    {
     "name": "stdout",
     "output_type": "stream",
     "text": [
      "Success\n"
     ]
    }
   ],
   "source": [
    "#Converting the file to csv\n",
    "#filename.to_csv(New Name of file,index)\n",
    "#Note:If index=True it will include the index produced by jupyter to your new file\n",
    "f=df.to_csv('AwuscoNightChanges.csv',index=False)\n",
    "if(f):\n",
    "    print('Failed')\n",
    "else:\n",
    "    print('Success')"
   ]
  },
  {
   "cell_type": "code",
   "execution_count": 20,
   "id": "4d9c9e5c",
   "metadata": {},
   "outputs": [
    {
     "name": "stdout",
     "output_type": "stream",
     "text": [
      "Success\n"
     ]
    }
   ],
   "source": [
    "#converting the file to excel\n",
    "e=df.to_excel('AwuscoNightChanges.xlsx',index=False)\n",
    "if(e):\n",
    "    print('Failed')\n",
    "else:\n",
    "    print('Success')"
   ]
  },
  {
   "cell_type": "code",
   "execution_count": 21,
   "id": "3f953dea",
   "metadata": {},
   "outputs": [
    {
     "name": "stdout",
     "output_type": "stream",
     "text": [
      "Success\n"
     ]
    }
   ],
   "source": [
    "#converting the file to text file\n",
    "#sep means seperater and we are seperating each column value by a tab\n",
    "e=df.to_csv('AwuscoNightChanges.txt',index=False,sep='\\t')\n",
    "if(e):\n",
    "    print('Failed')\n",
    "else:\n",
    "    print('Success')"
   ]
  },
  {
   "cell_type": "markdown",
   "id": "d3dbdc1a",
   "metadata": {},
   "source": [
    "# FILTERING DATA"
   ]
  },
  {
   "cell_type": "code",
   "execution_count": 22,
   "id": "1107bb28",
   "metadata": {},
   "outputs": [],
   "source": [
    "df=pd.read_csv('AwuscoNightChanges.txt',delimiter='\\t')"
   ]
  },
  {
   "cell_type": "code",
   "execution_count": 23,
   "id": "4b54d9ab",
   "metadata": {},
   "outputs": [],
   "source": [
    "r=df.loc[(df['Weapon']=='Gun') & (df['Loose']<=5)]"
   ]
  },
  {
   "cell_type": "code",
   "execution_count": 24,
   "id": "5f533dac",
   "metadata": {},
   "outputs": [
    {
     "name": "stdout",
     "output_type": "stream",
     "text": [
      "   index    Name Weapon  Win  Loose  Total\n",
      "0      6   Tracy    Gun    3      5      8\n",
      "1      9  Mariam    Gun    3      1      4\n",
      "or\n",
      "     Name Weapon  Win  Loose  Total\n",
      "0   Tracy    Gun    3      5      8\n",
      "1  Mariam    Gun    3      1      4\n"
     ]
    }
   ],
   "source": [
    "#Reseting the index of the filtered data\n",
    "Rr=r.reset_index()\n",
    "print(Rr)\n",
    "#or it can be done by not assigning it to a variable\n",
    "print('or')\n",
    "r.reset_index(drop=True,inplace=True)\n",
    "print(r)"
   ]
  },
  {
   "cell_type": "code",
   "execution_count": 25,
   "id": "e393690b",
   "metadata": {},
   "outputs": [
    {
     "name": "stdout",
     "output_type": "stream",
     "text": [
      "     Name Weapon  Win  Loose  Total\n",
      "0   James    Gun    4      6     10\n",
      "1  Martin  Knife   12      2     14\n",
      "2  Prince   Fire    4      0      4\n",
      "3  Mariam    Gun    3      1      4\n"
     ]
    }
   ],
   "source": [
    "#Checking if the names contains some specific characters\n",
    "#Note: | between am and in means or\n",
    "rr=df.loc[df[\"Name\"].str.contains('am|in')]\n",
    "rr.reset_index(drop=True,inplace=True)\n",
    "print(rr)"
   ]
  },
  {
   "cell_type": "markdown",
   "id": "0f860e4e",
   "metadata": {},
   "source": [
    "# FILTERING WITH REGX"
   ]
  },
  {
   "cell_type": "code",
   "execution_count": 26,
   "id": "1e28d2da",
   "metadata": {},
   "outputs": [
    {
     "name": "stdout",
     "output_type": "stream",
     "text": [
      "     Name Weapon  Win  Loose  Total\n",
      "2  Martin  Knife   12      2     14\n",
      "3  Prince   Fire    4      0      4\n"
     ]
    }
   ],
   "source": [
    "import re\n",
    "#flags=re.I means it won't be case sensitive\n",
    "fr=df.loc[df['Name'].str.contains('In|Ie',flags=re.I,regex=True)]\n",
    "print(fr)"
   ]
  },
  {
   "cell_type": "markdown",
   "id": "d780bb26",
   "metadata": {},
   "source": [
    "# Conditional Changes"
   ]
  },
  {
   "cell_type": "code",
   "execution_count": 27,
   "id": "9c6b358c",
   "metadata": {},
   "outputs": [
    {
     "name": "stdout",
     "output_type": "stream",
     "text": [
      "       Name Weapon  Win  Loose  Total    Status\n",
      "0      Mike  Blade    2      3      5  Beginner\n",
      "1     James    Gun    4      6     10  Beginner\n",
      "2    Martin  Knife   12      2     14   Lengend\n",
      "3    Prince   Fire    4      0      4  Beginner\n",
      "4   Keneath  Blade    6      3      9   Lengend\n",
      "5    Magret   Fire    4      2      6  Beginner\n",
      "6     Tracy    Gun    3      5      8  Beginner\n",
      "7   Micheal  Knife    5      2      7  Beginner\n",
      "8     Banes  Water    2      1      3  Beginner\n",
      "9    Mariam    Gun    3      1      4  Beginner\n",
      "10  Charles   Fire    2      0      2  Beginner\n"
     ]
    }
   ],
   "source": [
    "#Single changes\n",
    "df['Status']=''\n",
    "df.loc[df['Win']>=6,'Status']=\"Lengend\"\n",
    "df.loc[df['Win']<6,'Status']=\"Beginner\"\n",
    "print(df)"
   ]
  },
  {
   "cell_type": "code",
   "execution_count": 28,
   "id": "32272761",
   "metadata": {},
   "outputs": [
    {
     "name": "stdout",
     "output_type": "stream",
     "text": [
      "       Name Weapon  Win  Loose  Total    Status    Target\n",
      "0      Mike  Blade    2      3      5  Beginner   Rebound\n",
      "1     James    Gun    4      6     10  Beginner   Rebound\n",
      "2    Martin  Knife   12      2     14   Lengend  Accurate\n",
      "3    Prince   Fire    4      0      4  Beginner   Rebound\n",
      "4   Keneath  Blade    6      3      9   Lengend  Accurate\n",
      "5    Magret   Fire    4      2      6  Beginner   Rebound\n",
      "6     Tracy    Gun    3      5      8  Beginner   Rebound\n",
      "7   Micheal  Knife    5      2      7  Beginner   Rebound\n",
      "8     Banes  Water    2      1      3  Beginner   Rebound\n",
      "9    Mariam    Gun    3      1      4  Beginner   Rebound\n",
      "10  Charles   Fire    2      0      2  Beginner   Rebound\n"
     ]
    }
   ],
   "source": [
    "#multiple changes\n",
    "df['Target']=''\n",
    "df.loc[df['Win']>=6,['Status','Target']]=[\"Lengend\",\"Accurate\"]\n",
    "df.loc[df['Win']<6,['Status','Target']]=[\"Beginner\",\"Rebound\"]\n",
    "print(df)"
   ]
  },
  {
   "cell_type": "code",
   "execution_count": 29,
   "id": "6c601f88",
   "metadata": {},
   "outputs": [
    {
     "name": "stdout",
     "output_type": "stream",
     "text": [
      "        Loose      Total\n",
      "Win                     \n",
      "2    1.333333   3.333333\n",
      "5    2.000000   7.000000\n",
      "12   2.000000  14.000000\n",
      "4    2.666667   6.666667\n",
      "3    3.000000   6.000000\n",
      "6    3.000000   9.000000\n"
     ]
    }
   ],
   "source": [
    "x=df.groupby(['Win']).mean().sort_values('Loose',ascending=True)\n",
    "print(x)"
   ]
  },
  {
   "cell_type": "code",
   "execution_count": 30,
   "id": "e936ba30",
   "metadata": {},
   "outputs": [
    {
     "name": "stdout",
     "output_type": "stream",
     "text": [
      "Weapon\n",
      "Blade    2\n",
      "Fire     3\n",
      "Gun      3\n",
      "Knife    2\n",
      "Water    1\n",
      "Name: count, dtype: int64\n"
     ]
    }
   ],
   "source": [
    "#counting the number of reoccuring items\n",
    "df['count']=1\n",
    "v=df.groupby(['Weapon']).count()['count']\n",
    "print(v)"
   ]
  },
  {
   "cell_type": "code",
   "execution_count": null,
   "id": "397e22d1",
   "metadata": {},
   "outputs": [],
   "source": []
  },
  {
   "cell_type": "code",
   "execution_count": null,
   "id": "c09c7e2d",
   "metadata": {},
   "outputs": [],
   "source": []
  }
 ],
 "metadata": {
  "kernelspec": {
   "display_name": "Python 3 (ipykernel)",
   "language": "python",
   "name": "python3"
  },
  "language_info": {
   "codemirror_mode": {
    "name": "ipython",
    "version": 3
   },
   "file_extension": ".py",
   "mimetype": "text/x-python",
   "name": "python",
   "nbconvert_exporter": "python",
   "pygments_lexer": "ipython3",
   "version": "3.9.12"
  }
 },
 "nbformat": 4,
 "nbformat_minor": 5
}
