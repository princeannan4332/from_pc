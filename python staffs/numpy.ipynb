{
 "cells": [
  {
   "cell_type": "code",
   "execution_count": 2,
   "id": "7715c525",
   "metadata": {},
   "outputs": [],
   "source": [
    "import numpy as np"
   ]
  },
  {
   "cell_type": "code",
   "execution_count": 3,
   "id": "671a8db8",
   "metadata": {},
   "outputs": [
    {
     "name": "stdout",
     "output_type": "stream",
     "text": [
      "[[ 13 360]\n",
      " [ 12 476]]\n"
     ]
    }
   ],
   "source": [
    "#matrix\n",
    "a=np.array([[1,45],[12,34]])\n",
    "b=np.array([[13,8],[1,14]])\n",
    "c=a*b;\n",
    "print(c)"
   ]
  },
  {
   "cell_type": "code",
   "execution_count": 4,
   "id": "6fd54559",
   "metadata": {},
   "outputs": [
    {
     "name": "stdout",
     "output_type": "stream",
     "text": [
      "[[['mango' 'rat']]]\n"
     ]
    }
   ],
   "source": [
    "#minimum dimensions\n",
    "d=np.array(['mango','rat'],ndmin=3)\n",
    "print(d)"
   ]
  },
  {
   "cell_type": "code",
   "execution_count": 5,
   "id": "1e6fbdc5",
   "metadata": {},
   "outputs": [
    {
     "name": "stdout",
     "output_type": "stream",
     "text": [
      "[2.+0.j 4.+0.j]\n"
     ]
    }
   ],
   "source": [
    "#outputing a complex array values\n",
    "f=np.array([2,4],dtype=complex)\n",
    "print(f)"
   ]
  },
  {
   "cell_type": "code",
   "execution_count": 6,
   "id": "e0f1f801",
   "metadata": {},
   "outputs": [
    {
     "name": "stdout",
     "output_type": "stream",
     "text": [
      "it is (2, 3) matrix\n"
     ]
    }
   ],
   "source": [
    "#checking the shape of the array or matrix\n",
    "g=np.array([[3,4,12],[23,4,3]])\n",
    "print('it is '+str(g.shape)+' matrix')"
   ]
  },
  {
   "cell_type": "code",
   "execution_count": 7,
   "id": "c193e0ef",
   "metadata": {},
   "outputs": [
    {
     "name": "stdout",
     "output_type": "stream",
     "text": [
      "[[21 23]\n",
      " [43 23]\n",
      " [32 45]]\n"
     ]
    }
   ],
   "source": [
    "#reshaping a matrix to prefered choice\n",
    "k=np.array([[21,23,43],[23,32,45]])\n",
    "rk=k.reshape(3,2)\n",
    "print(rk)"
   ]
  },
  {
   "cell_type": "code",
   "execution_count": 8,
   "id": "925da471",
   "metadata": {},
   "outputs": [
    {
     "name": "stdout",
     "output_type": "stream",
     "text": [
      "this is a range:[ 0  1  2  3  4  5  6  7  8  9 10 11 12 13 14 15 16 17 18 19 20 21 22 23]\n",
      "this is a range between:[ 6  7  8  9 10 11 12 13 14 15 16 17 18 19 20 21 22 23]\n"
     ]
    }
   ],
   "source": [
    "#getting a range of numbers\n",
    "#arange(start,stop,step,dtype)\n",
    "r=np.arange(24)\n",
    "print('this is a range:'+str(r))\n",
    "\n",
    "rp=np.arange(4)\n",
    "\n",
    "rb=np.arange(6,24)\n",
    "print('this is a range between:'+str(rb))"
   ]
  },
  {
   "cell_type": "code",
   "execution_count": 9,
   "id": "3d7cf704",
   "metadata": {},
   "outputs": [
    {
     "name": "stdout",
     "output_type": "stream",
     "text": [
      "[[[ 0  1  2]\n",
      "  [ 3  4  5]\n",
      "  [ 6  7  8]\n",
      "  [ 9 10 11]]\n",
      "\n",
      " [[12 13 14]\n",
      "  [15 16 17]\n",
      "  [18 19 20]\n",
      "  [21 22 23]]]\n",
      "\n",
      "For rp is below\n",
      "[[0 1]\n",
      " [2 3]]\n"
     ]
    }
   ],
   "source": [
    "#reshpaing our range into matrix\n",
    "r_matrix=r.reshape(2,4,3)\n",
    "print(r_matrix)\n",
    "\n",
    "print('')\n",
    "print('For rp is below')\n",
    "\n",
    "rp_matrix=rp.reshape(2,2)\n",
    "print(rp_matrix)"
   ]
  },
  {
   "cell_type": "code",
   "execution_count": 10,
   "id": "b4a117b0",
   "metadata": {},
   "outputs": [
    {
     "name": "stdout",
     "output_type": "stream",
     "text": [
      "  C_CONTIGUOUS : True\n",
      "  F_CONTIGUOUS : True\n",
      "  OWNDATA : True\n",
      "  WRITEABLE : True\n",
      "  ALIGNED : True\n",
      "  WRITEBACKIFCOPY : False\n",
      "  UPDATEIFCOPY : False\n",
      "\n"
     ]
    }
   ],
   "source": [
    "print(r.flags)"
   ]
  },
  {
   "cell_type": "code",
   "execution_count": 11,
   "id": "5782196b",
   "metadata": {},
   "outputs": [
    {
     "name": "stdout",
     "output_type": "stream",
     "text": [
      "[[2.46454856e-154 4.47593816e-091 6.01346953e-154]]\n"
     ]
    }
   ],
   "source": [
    "#numpy empty function\n",
    "#empty creates a random number array of dimensions 2 \n",
    "#empty([num_of_rows,num_of_columns])\n",
    "ne=np.empty([1,3],dtype=float)\n",
    "print(ne)"
   ]
  },
  {
   "cell_type": "code",
   "execution_count": 12,
   "id": "9016b75d",
   "metadata": {},
   "outputs": [
    {
     "name": "stdout",
     "output_type": "stream",
     "text": [
      "[[0 0 0]\n",
      " [0 0 0]]\n"
     ]
    }
   ],
   "source": [
    "# numpy zero function\n",
    "#it returns an array of zeros\n",
    "nz=np.zeros([2,3],dtype=int);\n",
    "print(nz)"
   ]
  },
  {
   "cell_type": "code",
   "execution_count": 13,
   "id": "ae205e3d",
   "metadata": {},
   "outputs": [
    {
     "name": "stdout",
     "output_type": "stream",
     "text": [
      "3\n",
      "4\n"
     ]
    }
   ],
   "source": [
    "#length of an array in numpy\n",
    "larr=np.array([2,3,43])\n",
    "print(larr.size)\n",
    "print(larr.itemsize)"
   ]
  },
  {
   "cell_type": "code",
   "execution_count": 14,
   "id": "cecc2e7e",
   "metadata": {},
   "outputs": [
    {
     "name": "stdout",
     "output_type": "stream",
     "text": [
      "[[1 1]\n",
      " [1 1]\n",
      " [1 1]]\n"
     ]
    }
   ],
   "source": [
    "#ones-returns an array of ones\n",
    "one_arr=np.ones([3,2],dtype=int)\n",
    "print(one_arr)"
   ]
  },
  {
   "cell_type": "code",
   "execution_count": 15,
   "id": "95f25809",
   "metadata": {},
   "outputs": [
    {
     "name": "stdout",
     "output_type": "stream",
     "text": [
      "[12. 32. 45.  3.]\n"
     ]
    }
   ],
   "source": [
    "#converting array into array function\n",
    "ab=[12,32,45,3]\n",
    "conab=np.asarray(ab,dtype=float)\n",
    "print(conab)\n"
   ]
  },
  {
   "cell_type": "code",
   "execution_count": 16,
   "id": "e167bdd7",
   "metadata": {},
   "outputs": [
    {
     "name": "stdout",
     "output_type": "stream",
     "text": [
      "[ 2 32]\n"
     ]
    }
   ],
   "source": [
    "#SLicing an array in numpy\n",
    "ss=[2,32,23];\n",
    "ass=np.fromiter(ss,dtype=int,count=2)\n",
    "print(ass)"
   ]
  },
  {
   "cell_type": "code",
   "execution_count": 17,
   "id": "3faa3a1d",
   "metadata": {},
   "outputs": [
    {
     "name": "stdout",
     "output_type": "stream",
     "text": [
      "(array([0, 0, 0, 0, 1, 1, 1, 1, 2]), 0.25)\n"
     ]
    }
   ],
   "source": [
    "#numpy.linspace(start, stop, num, endpoint, retstep, dtype)\n",
    "#endpoint-True by default, hence the stop value is included in the sequence. If false, it is not included\n",
    "#retstep-If true, returns samples and step between the consecutive numbers\n",
    "\n",
    "fg=np.linspace(0,2,9,endpoint=True,retstep=True,dtype=int)\n",
    "print(fg)"
   ]
  },
  {
   "cell_type": "code",
   "execution_count": 18,
   "id": "7633f97d",
   "metadata": {},
   "outputs": [
    {
     "name": "stdout",
     "output_type": "stream",
     "text": [
      "[-0.8462204   0.14112001  0.14112001 -0.8462204   0.99881669  0.14112001\n",
      "  0.05305349]\n"
     ]
    }
   ],
   "source": [
    "#Taken sin of array elements\n",
    "kk=np.array([23,3,3,23,234,3,223])\n",
    "print(np.sin(kk))"
   ]
  },
  {
   "cell_type": "code",
   "execution_count": 19,
   "id": "0a2a9e6b",
   "metadata": {},
   "outputs": [
    {
     "name": "stdout",
     "output_type": "stream",
     "text": [
      "[False  True False False False  True False]\n"
     ]
    }
   ],
   "source": [
    "kk=np.array([23,3,11,23,234,3,223])\n",
    "print(kk<10)"
   ]
  },
  {
   "cell_type": "code",
   "execution_count": 20,
   "id": "696c0db6",
   "metadata": {},
   "outputs": [
    {
     "name": "stdout",
     "output_type": "stream",
     "text": [
      "[[  8  17]\n",
      " [ 53 122]]\n",
      "Another way of finding dot product of a matrix\n",
      "[[  8  17]\n",
      " [ 53 122]]\n"
     ]
    }
   ],
   "source": [
    "#dot products of matrix\n",
    "a=np.array([[2,3],[3,7]])\n",
    "b=np.array([[1,2],[1,17]])\n",
    "print(b.dot(a))\n",
    "print('Another way of finding dot product of a matrix')\n",
    "#another way of finding the dot product\n",
    "print(b@a)"
   ]
  },
  {
   "cell_type": "code",
   "execution_count": 21,
   "id": "42e5996d",
   "metadata": {},
   "outputs": [
    {
     "name": "stdout",
     "output_type": "stream",
     "text": [
      "[[0.1112498  0.16603281 0.88505503]\n",
      " [0.99930766 0.82213953 0.00618737]\n",
      " [0.88529232 0.72191718 0.53053493]]\n"
     ]
    }
   ],
   "source": [
    "#Getting a random array\n",
    "n=np.random.random((3,3))\n",
    "print(n)"
   ]
  },
  {
   "cell_type": "code",
   "execution_count": 22,
   "id": "97e0ff3b",
   "metadata": {},
   "outputs": [
    {
     "name": "stdout",
     "output_type": "stream",
     "text": [
      "15\n"
     ]
    }
   ],
   "source": [
    "#adding elements in an array\n",
    "a=np.array([2,3,4,6])\n",
    "print(a.sum()) "
   ]
  },
  {
   "cell_type": "code",
   "execution_count": 23,
   "id": "c415a064",
   "metadata": {},
   "outputs": [
    {
     "name": "stdout",
     "output_type": "stream",
     "text": [
      "[[ 0  1  2  3]\n",
      " [ 4  5  6  7]\n",
      " [ 8  9 10 11]]\n",
      "Sum\n",
      "[12 15 18 21]\n",
      "Min of each row\n",
      "[0 4 8]\n",
      "Cumilative sum of columns\n",
      "[[ 0  1  2  3]\n",
      " [ 4  6  8 10]\n",
      " [12 15 18 21]]\n"
     ]
    }
   ],
   "source": [
    "#when axis=0 then it is a column selection\n",
    "#when axis=1 then it is a row selection\n",
    "\n",
    "\n",
    "#arange elements\n",
    "arr=np.arange(12).reshape(3,4)\n",
    "print(arr)\n",
    "#sum of each column\n",
    "print('Sum')\n",
    "print(arr.sum(axis=0))\n",
    "#minimum of each row\n",
    "print('Min of each row')\n",
    "print(arr.min(axis=1))\n",
    "#cumulative sum\n",
    "print('Cumilative sum of columns');\n",
    "print(arr.cumsum(axis=0))"
   ]
  },
  {
   "cell_type": "code",
   "execution_count": 24,
   "id": "cd8ab0ef",
   "metadata": {},
   "outputs": [
    {
     "name": "stdout",
     "output_type": "stream",
     "text": [
      "[3.46410162 5.65685425 2.        ]\n",
      "Adding two arrays\n",
      "[14 35  8]\n"
     ]
    }
   ],
   "source": [
    "#Universal Functions\n",
    "arr=np.array([12,32,4])\n",
    "#square root of array elements\n",
    "print(np.sqrt(arr))\n",
    "#adding two arrays\n",
    "print('Adding two arrays')\n",
    "barr=np.array([2,3,4])\n",
    "print(np.add(arr,barr))"
   ]
  },
  {
   "cell_type": "code",
   "execution_count": 25,
   "id": "2a899363",
   "metadata": {},
   "outputs": [
    {
     "name": "stdout",
     "output_type": "stream",
     "text": [
      "2\n",
      "3\n",
      "4\n"
     ]
    }
   ],
   "source": [
    "#iterating on all elements in an array\n",
    "\n",
    "v=np.array([2,3,4])\n",
    "\n",
    "#printing all inner Elements of an array\n",
    "for x in v.flat:\n",
    "    print(x)"
   ]
  },
  {
   "cell_type": "code",
   "execution_count": 26,
   "id": "2b4b72db",
   "metadata": {},
   "outputs": [
    {
     "name": "stdout",
     "output_type": "stream",
     "text": [
      "[ 2.   32.   23.43]\n"
     ]
    }
   ],
   "source": [
    "#Flatening elements\n",
    "a=np.array([2,32,23.43])\n",
    "a.ravel()\n",
    "print(a)"
   ]
  },
  {
   "cell_type": "code",
   "execution_count": 27,
   "id": "2fe6a104",
   "metadata": {},
   "outputs": [
    {
     "name": "stdout",
     "output_type": "stream",
     "text": [
      "[[ 2  1]\n",
      " [ 3  1]\n",
      " [32  1]]\n"
     ]
    }
   ],
   "source": [
    "a=np.array([[2,3,32],[1,1,1]])\n",
    "print(a.T)"
   ]
  },
  {
   "cell_type": "markdown",
   "id": "58179dc8",
   "metadata": {},
   "source": [
    "# Day2"
   ]
  },
  {
   "cell_type": "code",
   "execution_count": 38,
   "id": "0b051ccc",
   "metadata": {},
   "outputs": [
    {
     "name": "stdout",
     "output_type": "stream",
     "text": [
      "Ceiling:\n",
      "[2. 4. 6.]\n",
      "\n",
      "Floor:\n",
      "[2. 3. 5.]\n"
     ]
    }
   ],
   "source": [
    "#flooring values in numpy\n",
    "n=np.array([2,3.34,5.5]);\n",
    "c=np.ceil(n)\n",
    "f=np.floor(n)\n",
    "print('Ceiling:')\n",
    "print(c)\n",
    "print('')\n",
    "print('Floor:')\n",
    "print(f)"
   ]
  },
  {
   "cell_type": "code",
   "execution_count": 47,
   "id": "de8b953f",
   "metadata": {},
   "outputs": [
    {
     "name": "stdout",
     "output_type": "stream",
     "text": [
      "Horizontal Array Join\n",
      "[[23 23 43  2  2  2]\n",
      " [ 3  4  5  1  1  1]]\n",
      "\n",
      "Vertical Array Join\n",
      "[[23 23 43]\n",
      " [ 3  4  5]\n",
      " [ 2  2  2]\n",
      " [ 1  1  1]]\n"
     ]
    }
   ],
   "source": [
    "#joing two arrays in a column form or row form\n",
    "a=[[23,23,43],[3,4,5]]\n",
    "\n",
    "b=[[2,2,2],[1,1,1]]\n",
    "print('Horizontal Array Join')\n",
    "print(np.hstack((a,b)))\n",
    "print('')\n",
    "print('Vertical Array Join')\n",
    "print(np.vstack((a,b)))"
   ]
  },
  {
   "cell_type": "code",
   "execution_count": 59,
   "id": "54afc083",
   "metadata": {},
   "outputs": [
    {
     "name": "stdout",
     "output_type": "stream",
     "text": [
      "Vertcal Splitting array into Three seperate arrays\n",
      "\n",
      "[array([[12, 32,  2,  4,  3,  4]]), array([[ 2, 34, 56,  1,  6, 72]]), array([[10,  2, 36, 12, 45, 22]])]\n",
      "Horizontal Splitting array into Three seperate arrays\n",
      "\n",
      "[array([[12, 32],\n",
      "       [ 2, 34],\n",
      "       [10,  2]]), array([[ 2,  4],\n",
      "       [56,  1],\n",
      "       [36, 12]]), array([[ 3,  4],\n",
      "       [ 6, 72],\n",
      "       [45, 22]])]\n"
     ]
    }
   ],
   "source": [
    "#splitting an array vertically or horizontally\n",
    "kp=np.array([[12,32,2,4,3,4],[2,34,56,1,6,72],[10,2,36,12,45,22]])\n",
    "print('Vertcal Splitting array into Three seperate arrays')\n",
    "print('')\n",
    "print(np.vsplit(kp,3))\n",
    "print('Horizontal Splitting array into Three seperate arrays')\n",
    "print('')\n",
    "print(np.hsplit(kp,3))"
   ]
  },
  {
   "cell_type": "code",
   "execution_count": 79,
   "id": "8d5e89f7",
   "metadata": {},
   "outputs": [
    {
     "name": "stdout",
     "output_type": "stream",
     "text": [
      "[ 1  3  5  7  9 11 13 15 17 19 21]\n"
     ]
    }
   ],
   "source": [
    "#creating an array using ogrid\n",
    "#np.ogrid[start,end,steps] but does not includes the endpoint\n",
    "arr=np.ogrid[1:23:2]\n",
    "print(arr)"
   ]
  },
  {
   "cell_type": "code",
   "execution_count": 108,
   "id": "94d6c7ad",
   "metadata": {},
   "outputs": [
    {
     "data": {
      "image/png": "[encoded data removed]",
      "text/plain": [
       "<Figure size 432x288 with 1 Axes>"
      ]
     },
     "metadata": {
      "needs_background": "light"
     },
     "output_type": "display_data"
    }
   ],
   "source": [
    "import numpy as np\n",
    "import matplotlib.pyplot as plt\n",
    "\n",
    "\n",
    "plt.imshow([[367,12,12],[-12,2,-13]])\n",
    "plt.show()"
   ]
  },
  {
   "cell_type": "code",
   "execution_count": null,
   "id": "4b1f233f",
   "metadata": {},
   "outputs": [],
   "source": []
  },
  {
   "cell_type": "code",
   "execution_count": null,
   "id": "b3caf0a7",
   "metadata": {},
   "outputs": [],
   "source": []
  }
 ],
 "metadata": {
  "kernelspec": {
   "display_name": "Python 3 (ipykernel)",
   "language": "python",
   "name": "python3"
  },
  "language_info": {
   "codemirror_mode": {
    "name": "ipython",
    "version": 3
   },
   "file_extension": ".py",
   "mimetype": "text/x-python",
   "name": "python",
   "nbconvert_exporter": "python",
   "pygments_lexer": "ipython3",
   "version": "3.9.12"
  }
 },
 "nbformat": 4,
 "nbformat_minor": 5
}
