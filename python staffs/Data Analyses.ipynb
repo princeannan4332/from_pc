{
 "cells": [
  {
   "cell_type": "code",
   "execution_count": 7,
   "id": "d3fa42bd",
   "metadata": {},
   "outputs": [],
   "source": [
    "import pandas as pd\n"
   ]
  },
  {
   "cell_type": "code",
   "execution_count": 8,
   "id": "8ef35fcc",
   "metadata": {},
   "outputs": [
    {
     "name": "stdout",
     "output_type": "stream",
     "text": [
      "       Names       Skills  Rating  Speed                        Cities\n",
      "0       Mike    High Kick     3.3    123  323 St,Los Angeles,CA TX3267\n",
      "1    Micheal     Low Kick     2.3    234  323 St,Los Angeles,CA TX3267\n",
      "2       Guru    High Kick     4.4     12        122 St,Accra,KM OS2173\n",
      "3      Caleb  Power Punch     3.4    323        312 St,Accra,AD OS4173\n",
      "4     Prince       Poison     4.5    123  323 St,Los Angeles,CA TX3267\n",
      "5     Martin        Toxic     2.1    145        312 St,Accra,AD OS4173\n",
      "6    Charles        Toxic     1.3     45        122 St,Accra,KM OS2173\n",
      "7   Benjamin        Blade     4.2     12        312 St,Accra,AD OS4173\n",
      "8     Thomas       Poison     3.5    453        122 St,Accra,KM OS2173\n",
      "9    Richard     Low Kick     1.5    222   33 St,Los Angeles,MH TJ1267\n",
      "10    Junior        Blade     3.6    156   33 St,Los Angeles,MH TJ1267\n",
      "11   Maxwell    High Kick     1.1    321   33 St,Los Angeles,MH TJ1267\n",
      "12     Tracy     Low Kick     2.8    333        312 St,Accra,AD OS4173\n",
      "13    Mariam        Blade     3.3    566        366 St,Accra,KA OS2173\n",
      "14   Pascals       Poison     1.5     21        122 St,Accra,KM OS2173\n",
      "15   Jessica       Poison     2.8     23        366 St,Accra,KA OS2173\n",
      "16     Aaron        Vomit     3.8    456   33 St,Los Angeles,MH TJ1267\n",
      "17    Magret        Trick     4.8    633  323 St,Los Angeles,CA TX3267\n",
      "18      Mane        Shoot     NaN    466        366 St,Accra,KA OS2173\n"
     ]
    }
   ],
   "source": [
    "df=pd.read_excel('AwuscoNight.xlsx')\n",
    "print(df)"
   ]
  },
  {
   "cell_type": "code",
   "execution_count": 9,
   "id": "7b6d0651",
   "metadata": {
    "scrolled": true
   },
   "outputs": [
    {
     "name": "stdout",
     "output_type": "stream",
     "text": [
      "       Names       Skills  Rating  Speed                        Cities   Power\n",
      "0       Mike    High Kick     3.3    123  323 St,Los Angeles,CA TX3267   405.9\n",
      "1    Micheal     Low Kick     2.3    234  323 St,Los Angeles,CA TX3267   538.2\n",
      "2       Guru    High Kick     4.4     12        122 St,Accra,KM OS2173    52.8\n",
      "3      Caleb  Power Punch     3.4    323        312 St,Accra,AD OS4173  1098.2\n",
      "4     Prince       Poison     4.5    123  323 St,Los Angeles,CA TX3267   553.5\n",
      "5     Martin        Toxic     2.1    145        312 St,Accra,AD OS4173   304.5\n",
      "6    Charles        Toxic     1.3     45        122 St,Accra,KM OS2173    58.5\n",
      "7   Benjamin        Blade     4.2     12        312 St,Accra,AD OS4173    50.4\n",
      "8     Thomas       Poison     3.5    453        122 St,Accra,KM OS2173  1585.5\n",
      "9    Richard     Low Kick     1.5    222   33 St,Los Angeles,MH TJ1267   333.0\n",
      "10    Junior        Blade     3.6    156   33 St,Los Angeles,MH TJ1267   561.6\n",
      "11   Maxwell    High Kick     1.1    321   33 St,Los Angeles,MH TJ1267   353.1\n",
      "12     Tracy     Low Kick     2.8    333        312 St,Accra,AD OS4173   932.4\n",
      "13    Mariam        Blade     3.3    566        366 St,Accra,KA OS2173  1867.8\n",
      "14   Pascals       Poison     1.5     21        122 St,Accra,KM OS2173    31.5\n",
      "15   Jessica       Poison     2.8     23        366 St,Accra,KA OS2173    64.4\n",
      "16     Aaron        Vomit     3.8    456   33 St,Los Angeles,MH TJ1267  1732.8\n",
      "17    Magret        Trick     4.8    633  323 St,Los Angeles,CA TX3267  3038.4\n"
     ]
    }
   ],
   "source": [
    "#Deleting a row based on some condition\n",
    "\n",
    "df.dropna(how='any',inplace=True)\n",
    "df['Power']=df['Rating']*df['Speed']\n",
    "print(df)\n"
   ]
  },
  {
   "cell_type": "code",
   "execution_count": 10,
   "id": "910054b6",
   "metadata": {},
   "outputs": [
    {
     "name": "stdout",
     "output_type": "stream",
     "text": [
      "             Rating  Speed   Power\n",
      "Skills                            \n",
      "Power Punch     3.4    323  1098.2\n",
      "Toxic           3.4    190   363.0\n",
      "Vomit           3.8    456  1732.8\n",
      "Trick           4.8    633  3038.4\n",
      "Low Kick        6.6    789  1803.6\n",
      "High Kick       8.8    456   811.8\n",
      "Blade          11.1    734  2479.8\n",
      "Poison         12.3    620  2234.9\n"
     ]
    }
   ],
   "source": [
    "f=df.groupby('Skills').sum().sort_values('Rating',ascending=True)\n",
    "print(f)"
   ]
  },
  {
   "cell_type": "markdown",
   "id": "01706978",
   "metadata": {},
   "source": [
    "# Slicing some parts of the Data"
   ]
  },
  {
   "cell_type": "code",
   "execution_count": 15,
   "id": "8f280a34",
   "metadata": {},
   "outputs": [
    {
     "name": "stdout",
     "output_type": "stream",
     "text": [
      "       Names       Skills  Rating  Speed   Power     Resident\n",
      "0       Mike    High Kick     3.3    123   405.9  Los Angeles\n",
      "1    Micheal     Low Kick     2.3    234   538.2  Los Angeles\n",
      "2       Guru    High Kick     4.4     12    52.8        Accra\n",
      "3      Caleb  Power Punch     3.4    323  1098.2        Accra\n",
      "4     Prince       Poison     4.5    123   553.5  Los Angeles\n",
      "5     Martin        Toxic     2.1    145   304.5        Accra\n",
      "6    Charles        Toxic     1.3     45    58.5        Accra\n",
      "7   Benjamin        Blade     4.2     12    50.4        Accra\n",
      "8     Thomas       Poison     3.5    453  1585.5        Accra\n",
      "9    Richard     Low Kick     1.5    222   333.0  Los Angeles\n",
      "10    Junior        Blade     3.6    156   561.6  Los Angeles\n",
      "11   Maxwell    High Kick     1.1    321   353.1  Los Angeles\n",
      "12     Tracy     Low Kick     2.8    333   932.4        Accra\n",
      "13    Mariam        Blade     3.3    566  1867.8        Accra\n",
      "14   Pascals       Poison     1.5     21    31.5        Accra\n",
      "15   Jessica       Poison     2.8     23    64.4        Accra\n",
      "16     Aaron        Vomit     3.8    456  1732.8  Los Angeles\n",
      "17    Magret        Trick     4.8    633  3038.4  Los Angeles\n"
     ]
    }
   ],
   "source": [
    "df['Resident']=df['Cities'].apply(lambda x:x.split(',')[1]);\n",
    "df.drop(columns=['Cities'],inplace=True)\n",
    "print(df)"
   ]
  },
  {
   "cell_type": "code",
   "execution_count": 16,
   "id": "483fa6b0",
   "metadata": {},
   "outputs": [],
   "source": [
    "df.to_excel('NewChanges.xlsx',index=False)"
   ]
  },
  {
   "cell_type": "code",
   "execution_count": null,
   "id": "e2d4e2a6",
   "metadata": {},
   "outputs": [],
   "source": []
  }
 ],
 "metadata": {
  "kernelspec": {
   "display_name": "Python 3 (ipykernel)",
   "language": "python",
   "name": "python3"
  },
  "language_info": {
   "codemirror_mode": {
    "name": "ipython",
    "version": 3
   },
   "file_extension": ".py",
   "mimetype": "text/x-python",
   "name": "python",
   "nbconvert_exporter": "python",
   "pygments_lexer": "ipython3",
   "version": "3.9.12"
  }
 },
 "nbformat": 4,
 "nbformat_minor": 5
}
